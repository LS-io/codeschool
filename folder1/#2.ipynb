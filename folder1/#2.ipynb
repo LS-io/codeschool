{
 "cells": [
  {
   "cell_type": "markdown",
   "id": "adjacent-fitting",
   "metadata": {},
   "source": [
    "# Challenge 2\n",
    "\n",
    "Tasks: \n",
    "Second file"
   ]
  },
  {
   "cell_type": "code",
   "execution_count": null,
   "id": "starting-roots",
   "metadata": {},
   "outputs": [],
   "source": [
    "import yfinance as yf #https://pypi.org/project/yfinance/"
   ]
  },  
 ],
 "metadata": {
  "celltoolbar": "Aucun(e)",
  "kernelspec": {
   "display_name": "Python 3",
   "language": "python",
   "name": "python3"
  },
  "language_info": {
   "codemirror_mode": {
    "name": "ipython",
    "version": 3
   },
   "file_extension": ".py",
   "mimetype": "text/x-python",
   "name": "python",
   "nbconvert_exporter": "python",
   "pygments_lexer": "ipython3",
   "version": "3.7.10"
  }
 },
 "nbformat": 4,
 "nbformat_minor": 5
}
