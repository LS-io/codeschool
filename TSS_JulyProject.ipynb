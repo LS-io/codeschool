{
  "nbformat": 4,
  "nbformat_minor": 0,
  "metadata": {
    "colab": {
      "name": "TSS_JulyProject.ipynb",
      "provenance": [],
      "collapsed_sections": [],
      "authorship_tag": "ABX9TyMtxedSkam12vtKTBa1R26K",
      "include_colab_link": true
    },
    "kernelspec": {
      "name": "python3",
      "display_name": "Python 3"
    },
    "language_info": {
      "name": "python"
    }
  },
  "cells": [
    {
      "cell_type": "markdown",
      "metadata": {
        "id": "view-in-github",
        "colab_type": "text"
      },
      "source": [
        "<a href=\"https://colab.research.google.com/github/LS-io/codeschoolmentorship/blob/main/TSS_JulyProject.ipynb\" target=\"_parent\"><img src=\"https://colab.research.google.com/assets/colab-badge.svg\" alt=\"Open In Colab\"/></a>"
      ]
    },
    {
      "cell_type": "markdown",
      "metadata": {
        "id": "cTS0iXsDnZ3i"
      },
      "source": [
        "# Welcome to the 30 days of code challenge!\n",
        "___\n",
        "Feel free to add your code files you have so far in the cells below.\n",
        "If you need to install any packages for python, you can do below in a code cell by running:\n",
        "```\n",
        "!pip install package-name --upgrade --quiet\n",
        "```\n",
        "--upgrade is added so it installs the latest package versions and --quiet so it doesn't spam all over the output cell, it will only show error messages"
      ]
    },
    {
      "cell_type": "code",
      "metadata": {
        "id": "J6X_PIlXnXj6"
      },
      "source": [
        "!pip install *fun stuff* --upgrade --quiet"
      ],
      "execution_count": null,
      "outputs": []
    },
    {
      "cell_type": "code",
      "metadata": {
        "id": "0eG-Fd1plEVm"
      },
      "source": [
        "## Test cell"
      ],
      "execution_count": null,
      "outputs": []
    }
  ]
}